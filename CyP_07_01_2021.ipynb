{
  "nbformat": 4,
  "nbformat_minor": 0,
  "metadata": {
    "colab": {
      "name": "CyP_07_01_2021.ipynb",
      "provenance": [],
      "authorship_tag": "ABX9TyPFiIBkc0zRbwv3vfpp2LWA",
      "include_colab_link": true
    },
    "kernelspec": {
      "name": "python3",
      "display_name": "Python 3"
    }
  },
  "cells": [
    {
      "cell_type": "markdown",
      "metadata": {
        "id": "view-in-github",
        "colab_type": "text"
      },
      "source": [
        "<a href=\"https://colab.research.google.com/github/shiningharbor/CyP_07_01_2021/blob/main/CyP_07_01_2021.ipynb\" target=\"_parent\"><img src=\"https://colab.research.google.com/assets/colab-badge.svg\" alt=\"Open In Colab\"/></a>"
      ]
    },
    {
      "cell_type": "code",
      "metadata": {
        "colab": {
          "base_uri": "https://localhost:8080/"
        },
        "id": "vpJ8Ah3b5LEB",
        "outputId": "10652a9a-2468-415b-d2fb-b283d592ce81"
      },
      "source": [
        "REN = 3\r\n",
        "COL = 5\r\n",
        "VEC = [[0 for x in range(COL)] for x in range(REN)]\r\n",
        "print(VEC)\r\n",
        "VEC[1][2] = 15\r\n",
        "print(VEC)\r\n",
        "print(\"Automatizar el recorrido del arreglo\")\r\n",
        "for i in range (REN):\r\n",
        "  for j in range(COL):\r\n",
        "    print(f\"{i},{j} = {VEC[i][j]}\")"
      ],
      "execution_count": 10,
      "outputs": [
        {
          "output_type": "stream",
          "text": [
            "[[0, 0, 0, 0, 0], [0, 0, 0, 0, 0], [0, 0, 0, 0, 0]]\n",
            "[[0, 0, 0, 0, 0], [0, 0, 15, 0, 0], [0, 0, 0, 0, 0]]\n",
            "Automatizar el recorrido del arreglo\n",
            "0,0 = 0\n",
            "0,1 = 0\n",
            "0,2 = 0\n",
            "0,3 = 0\n",
            "0,4 = 0\n",
            "1,0 = 0\n",
            "1,1 = 0\n",
            "1,2 = 15\n",
            "1,3 = 0\n",
            "1,4 = 0\n",
            "2,0 = 0\n",
            "2,1 = 0\n",
            "2,2 = 0\n",
            "2,3 = 0\n",
            "2,4 = 0\n"
          ],
          "name": "stdout"
        }
      ]
    },
    {
      "cell_type": "code",
      "metadata": {
        "colab": {
          "base_uri": "https://localhost:8080/"
        },
        "id": "B9_Nvud2Edd0",
        "outputId": "21be8e4c-b858-4575-b28f-1e8688178d73"
      },
      "source": [
        "estados = int(input(\"Cuantos estados son?: \"))\r\n",
        "VEC = [[0 for x in range(12)] for x in range(estados)]\r\n",
        "print(VEC)\r\n",
        "for i in range(estados):\r\n",
        "  for j in range(12):\r\n",
        "    mensaje = \"Dame el valor del estado \"+  str(i+1) + \" del mes \" + str(j+1) + \": \"\r\n",
        "    aux = int(input(mensaje))\r\n",
        "    VEC[i][j] = aux\r\n",
        "\r\n",
        "print(VEC)\r\n",
        "\r\n",
        "print(\"Promedio de lluvias en los estados: \")\r\n",
        "suma = 0\r\n",
        "for i in range(estados):\r\n",
        "  suma= 0\r\n",
        "  for j in range(12):\r\n",
        "    suma = suma + VEC[i][j]\r\n",
        "  print(f\"El promedio de lluvias en el estado {i+1} es {suma/12}\")\r\n",
        "\r\n"
      ],
      "execution_count": 27,
      "outputs": [
        {
          "output_type": "stream",
          "text": [
            "Cuantos estados son?: 1\n",
            "[[0, 0, 0, 0, 0, 0, 0, 0, 0, 0, 0, 0]]\n",
            "Dame el valor del estado 1 del mes 1: 21\n",
            "Dame el valor del estado 1 del mes 2: 12\n",
            "Dame el valor del estado 1 del mes 3: 12\n",
            "Dame el valor del estado 1 del mes 4: 12\n",
            "Dame el valor del estado 1 del mes 5: 2\n",
            "Dame el valor del estado 1 del mes 6: 2\n",
            "Dame el valor del estado 1 del mes 7: 2\n",
            "Dame el valor del estado 1 del mes 8: 25\n",
            "Dame el valor del estado 1 del mes 9: 45\n",
            "Dame el valor del estado 1 del mes 10: 85\n",
            "Dame el valor del estado 1 del mes 11: 65\n",
            "Dame el valor del estado 1 del mes 12: 75\n",
            "[[21, 12, 12, 12, 2, 2, 2, 25, 45, 85, 65, 75]]\n",
            "Promedio de lluvias en los estados: \n",
            "El promedio de lluvias en el estado 1 es 29.833333333333332\n"
          ],
          "name": "stdout"
        }
      ]
    }
  ]
}