{
  "nbformat": 4,
  "nbformat_minor": 0,
  "metadata": {
    "colab": {
      "name": "CyP_07_01_2021.ipynb",
      "provenance": [],
      "authorship_tag": "ABX9TyPFiIBkc0zRbwv3vfpp2LWA",
      "include_colab_link": true
    },
    "kernelspec": {
      "name": "python3",
      "display_name": "Python 3"
    }
  },
  "cells": [
    {
      "cell_type": "markdown",
      "metadata": {
        "id": "view-in-github",
        "colab_type": "text"
      },
      "source": [
        "<a href=\"https://colab.research.google.com/github/shiningharbor/CyP_07_01_2021/blob/main/CyP_07_01_2021.ipynb\" target=\"_parent\"><img src=\"https://colab.research.google.com/assets/colab-badge.svg\" alt=\"Open In Colab\"/></a>"
      ]
    },
    {
      "cell_type": "code",
      "metadata": {
        "id": "vpJ8Ah3b5LEB"
      },
      "source": [
        "REN = 3\r\n",
        "COL = 5\r\n",
        "VEC = [[0 for x in range(COL)] for x in range(REN)]\r\n",
        "print(VEC)\r\n",
        "VEC[1][2] = 15\r\n",
        "print(VEC)\r\n",
        "print(\"Automatizar el recorrido del arreglo\")\r\n",
        "for i in range (REN):\r\n",
        "  for j in range(COL):\r\n",
        "    print(f\"{i},{j} = {VEC[i][j]}\")"
      ],
      "execution_count": null,
      "outputs": []
    },
    {
      "cell_type": "code",
      "metadata": {
        "id": "B9_Nvud2Edd0"
      },
      "source": [
        "estados = int(input(\"Cuantos estados son?: \"))\r\n",
        "VEC = [[0 for x in range(12)] for x in range(estados)]\r\n",
        "print(VEC)\r\n",
        "for i in range(estados):\r\n",
        "  for j in range(12):\r\n",
        "    mensaje = \"Dame el valor del estado \"+  str(i+1) + \" del mes \" + str(j+1) + \": \"\r\n",
        "    aux = int(input(mensaje))\r\n",
        "    VEC[i][j] = aux\r\n",
        "\r\n",
        "print(VEC)\r\n",
        "\r\n",
        "print(\"Promedio de lluvias en los estados: \")\r\n",
        "suma = 0\r\n",
        "for i in range(estados):\r\n",
        "  suma= 0\r\n",
        "  for j in range(12):\r\n",
        "    suma = suma + VEC[i][j]\r\n",
        "  print(f\"El promedio de lluvias en el estado {i+1} es {suma/12}\")\r\n",
        "\r\n"
      ],
      "execution_count": null,
      "outputs": []
    }
  ]
}